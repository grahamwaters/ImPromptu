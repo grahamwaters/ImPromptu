{
 "cells": [
  {
   "cell_type": "code",
   "execution_count": 23,
   "metadata": {},
   "outputs": [
    {
     "name": "stdout",
     "output_type": "stream",
     "text": [
      "100%|█████████████████████████████████████████| 89/89 [00:00<00:00, 2138.33it/s]\n"
     ]
    }
   ],
   "source": [
    "!python setup.py\n",
    "!python topic_sorting.py"
   ]
  },
  {
   "cell_type": "code",
   "execution_count": 24,
   "metadata": {},
   "outputs": [],
   "source": [
    "import pandas as pd\n",
    "import numpy as np\n",
    "import re\n",
    "import os\n",
    "from tqdm.auto import tqdm\n",
    "import csv\n",
    "\n",
    "# topics is a list of strings, each string is a topic which comes from the list of file names in the \"specific_topics\" folder\n",
    "TOPICS = os.listdir(\"specific_topics\") # get the list of file names in the \"specific_topics\" folder\n",
    "TOPICS = [topic.replace(\".md\", \"\") for topic in TOPICS] # remove the \".md\" from the file names\n",
    "TOPICS = [topic.replace(\"_\", \" \") for topic in TOPICS] # replace the underscores with spaces\n"
   ]
  },
  {
   "cell_type": "code",
   "execution_count": 25,
   "metadata": {},
   "outputs": [
    {
     "data": {
      "text/html": [
       "<div>\n",
       "<style scoped>\n",
       "    .dataframe tbody tr th:only-of-type {\n",
       "        vertical-align: middle;\n",
       "    }\n",
       "\n",
       "    .dataframe tbody tr th {\n",
       "        vertical-align: top;\n",
       "    }\n",
       "\n",
       "    .dataframe thead th {\n",
       "        text-align: right;\n",
       "    }\n",
       "</style>\n",
       "<table border=\"1\" class=\"dataframe\">\n",
       "  <thead>\n",
       "    <tr style=\"text-align: right;\">\n",
       "      <th></th>\n",
       "      <th>topic</th>\n",
       "      <th>prompt</th>\n",
       "      <th>contributor</th>\n",
       "      <th>link</th>\n",
       "    </tr>\n",
       "  </thead>\n",
       "  <tbody>\n",
       "    <tr>\n",
       "      <th>0</th>\n",
       "      <td>Act As A Tea-Taster</td>\n",
       "      <td>Want somebody experienced enough to distinguis...</td>\n",
       "      <td>NaN</td>\n",
       "      <td>NaN</td>\n",
       "    </tr>\n",
       "    <tr>\n",
       "      <th>1</th>\n",
       "      <td>Act as an Interior Decorator</td>\n",
       "      <td>I want you to act as an interior decorator. Te...</td>\n",
       "      <td>NaN</td>\n",
       "      <td>NaN</td>\n",
       "    </tr>\n",
       "    <tr>\n",
       "      <th>2</th>\n",
       "      <td>Act As A Florist</td>\n",
       "      <td>Calling out for assistance from knowledgeable ...</td>\n",
       "      <td>NaN</td>\n",
       "      <td>NaN</td>\n",
       "    </tr>\n",
       "    <tr>\n",
       "      <th>3</th>\n",
       "      <td>Act as a Self-Help Book</td>\n",
       "      <td>I want you to act as a self-help book. You wil...</td>\n",
       "      <td>NaN</td>\n",
       "      <td>NaN</td>\n",
       "    </tr>\n",
       "    <tr>\n",
       "      <th>4</th>\n",
       "      <td>Act as a Gnomist</td>\n",
       "      <td>I want you to act as a gnomist. You will provi...</td>\n",
       "      <td>NaN</td>\n",
       "      <td>NaN</td>\n",
       "    </tr>\n",
       "  </tbody>\n",
       "</table>\n",
       "</div>"
      ],
      "text/plain": [
       "                          topic  \\\n",
       "0           Act As A Tea-Taster   \n",
       "1  Act as an Interior Decorator   \n",
       "2              Act As A Florist   \n",
       "3       Act as a Self-Help Book   \n",
       "4              Act as a Gnomist   \n",
       "\n",
       "                                              prompt contributor  link  \n",
       "0  Want somebody experienced enough to distinguis...         NaN   NaN  \n",
       "1  I want you to act as an interior decorator. Te...         NaN   NaN  \n",
       "2  Calling out for assistance from knowledgeable ...         NaN   NaN  \n",
       "3  I want you to act as a self-help book. You wil...         NaN   NaN  \n",
       "4  I want you to act as a gnomist. You will provi...         NaN   NaN  "
      ]
     },
     "execution_count": 25,
     "metadata": {},
     "output_type": "execute_result"
    }
   ],
   "source": [
    "######## Fresh Start ########\n",
    "# Starting with a csv already created and populated with prompts\n",
    "# we want to distribute those prompts into markdown files that are named by the topic. To do this we need to categorize the prompts by topic.\n",
    "# We can make a new column in the csv file that is the topic, and then we can use that to populate the markdown files.\n",
    "# We can also use the topic column to make sure that the prompts are only added to the markdown files that are named after the topic.\n",
    "# Step 1: Create a new column in the csv file that is the topic\n",
    "# open the csv file\n",
    "prompts_df = pd.read_csv(\"prompts.csv\")\n",
    "\n",
    "# Step 2: Populate the markdown files with the prompts from the csv file\n",
    "prompts_df.head()"
   ]
  },
  {
   "cell_type": "code",
   "execution_count": 26,
   "metadata": {},
   "outputs": [
    {
     "data": {
      "text/html": [
       "<div>\n",
       "<style scoped>\n",
       "    .dataframe tbody tr th:only-of-type {\n",
       "        vertical-align: middle;\n",
       "    }\n",
       "\n",
       "    .dataframe tbody tr th {\n",
       "        vertical-align: top;\n",
       "    }\n",
       "\n",
       "    .dataframe thead th {\n",
       "        text-align: right;\n",
       "    }\n",
       "</style>\n",
       "<table border=\"1\" class=\"dataframe\">\n",
       "  <thead>\n",
       "    <tr style=\"text-align: right;\">\n",
       "      <th></th>\n",
       "      <th>topic</th>\n",
       "      <th>prompt</th>\n",
       "      <th>contributor</th>\n",
       "      <th>link</th>\n",
       "    </tr>\n",
       "  </thead>\n",
       "  <tbody>\n",
       "    <tr>\n",
       "      <th>0</th>\n",
       "      <td>Act As A Tea-Taster</td>\n",
       "      <td>Want somebody experienced enough to distinguis...</td>\n",
       "      <td>NaN</td>\n",
       "      <td>NaN</td>\n",
       "    </tr>\n",
       "    <tr>\n",
       "      <th>1</th>\n",
       "      <td>Act as an Interior Decorator</td>\n",
       "      <td>I want you to act as an interior decorator. Te...</td>\n",
       "      <td>NaN</td>\n",
       "      <td>NaN</td>\n",
       "    </tr>\n",
       "    <tr>\n",
       "      <th>2</th>\n",
       "      <td>Act As A Florist</td>\n",
       "      <td>Calling out for assistance from knowledgeable ...</td>\n",
       "      <td>NaN</td>\n",
       "      <td>NaN</td>\n",
       "    </tr>\n",
       "    <tr>\n",
       "      <th>3</th>\n",
       "      <td>Act as a Self-Help Book</td>\n",
       "      <td>I want you to act as a self-help book. You wil...</td>\n",
       "      <td>NaN</td>\n",
       "      <td>NaN</td>\n",
       "    </tr>\n",
       "    <tr>\n",
       "      <th>4</th>\n",
       "      <td>Act as a Gnomist</td>\n",
       "      <td>I want you to act as a gnomist. You will provi...</td>\n",
       "      <td>NaN</td>\n",
       "      <td>NaN</td>\n",
       "    </tr>\n",
       "  </tbody>\n",
       "</table>\n",
       "</div>"
      ],
      "text/plain": [
       "                          topic  \\\n",
       "0           Act As A Tea-Taster   \n",
       "1  Act as an Interior Decorator   \n",
       "2              Act As A Florist   \n",
       "3       Act as a Self-Help Book   \n",
       "4              Act as a Gnomist   \n",
       "\n",
       "                                              prompt contributor  link  \n",
       "0  Want somebody experienced enough to distinguis...         NaN   NaN  \n",
       "1  I want you to act as an interior decorator. Te...         NaN   NaN  \n",
       "2  Calling out for assistance from knowledgeable ...         NaN   NaN  \n",
       "3  I want you to act as a self-help book. You wil...         NaN   NaN  \n",
       "4  I want you to act as a gnomist. You will provi...         NaN   NaN  "
      ]
     },
     "execution_count": 26,
     "metadata": {},
     "output_type": "execute_result"
    }
   ],
   "source": [
    "df = prompts_df.copy()\n",
    "df.head()"
   ]
  },
  {
   "cell_type": "code",
   "execution_count": 27,
   "metadata": {},
   "outputs": [
    {
     "data": {
      "text/html": [
       "<div>\n",
       "<style scoped>\n",
       "    .dataframe tbody tr th:only-of-type {\n",
       "        vertical-align: middle;\n",
       "    }\n",
       "\n",
       "    .dataframe tbody tr th {\n",
       "        vertical-align: top;\n",
       "    }\n",
       "\n",
       "    .dataframe thead th {\n",
       "        text-align: right;\n",
       "    }\n",
       "</style>\n",
       "<table border=\"1\" class=\"dataframe\">\n",
       "  <thead>\n",
       "    <tr style=\"text-align: right;\">\n",
       "      <th></th>\n",
       "      <th>topic</th>\n",
       "      <th>prompt</th>\n",
       "      <th>contributor</th>\n",
       "      <th>link</th>\n",
       "      <th>full_text</th>\n",
       "    </tr>\n",
       "  </thead>\n",
       "  <tbody>\n",
       "    <tr>\n",
       "      <th>0</th>\n",
       "      <td>Act As A Tea-Taster</td>\n",
       "      <td>Want somebody experienced enough to distinguis...</td>\n",
       "      <td>NaN</td>\n",
       "      <td>NaN</td>\n",
       "      <td>act as a tea-taster want somebody experienced ...</td>\n",
       "    </tr>\n",
       "    <tr>\n",
       "      <th>1</th>\n",
       "      <td>Act as an Interior Decorator</td>\n",
       "      <td>I want you to act as an interior decorator. Te...</td>\n",
       "      <td>NaN</td>\n",
       "      <td>NaN</td>\n",
       "      <td>act as an interior decorator i want you to act...</td>\n",
       "    </tr>\n",
       "    <tr>\n",
       "      <th>2</th>\n",
       "      <td>Act As A Florist</td>\n",
       "      <td>Calling out for assistance from knowledgeable ...</td>\n",
       "      <td>NaN</td>\n",
       "      <td>NaN</td>\n",
       "      <td>act as a florist calling out for assistance fr...</td>\n",
       "    </tr>\n",
       "    <tr>\n",
       "      <th>3</th>\n",
       "      <td>Act as a Self-Help Book</td>\n",
       "      <td>I want you to act as a self-help book. You wil...</td>\n",
       "      <td>NaN</td>\n",
       "      <td>NaN</td>\n",
       "      <td>act as a self-help book i want you to act as a...</td>\n",
       "    </tr>\n",
       "    <tr>\n",
       "      <th>4</th>\n",
       "      <td>Act as a Gnomist</td>\n",
       "      <td>I want you to act as a gnomist. You will provi...</td>\n",
       "      <td>NaN</td>\n",
       "      <td>NaN</td>\n",
       "      <td>act as a gnomist i want you to act as a gnomis...</td>\n",
       "    </tr>\n",
       "  </tbody>\n",
       "</table>\n",
       "</div>"
      ],
      "text/plain": [
       "                          topic  \\\n",
       "0           Act As A Tea-Taster   \n",
       "1  Act as an Interior Decorator   \n",
       "2              Act As A Florist   \n",
       "3       Act as a Self-Help Book   \n",
       "4              Act as a Gnomist   \n",
       "\n",
       "                                              prompt contributor  link  \\\n",
       "0  Want somebody experienced enough to distinguis...         NaN   NaN   \n",
       "1  I want you to act as an interior decorator. Te...         NaN   NaN   \n",
       "2  Calling out for assistance from knowledgeable ...         NaN   NaN   \n",
       "3  I want you to act as a self-help book. You wil...         NaN   NaN   \n",
       "4  I want you to act as a gnomist. You will provi...         NaN   NaN   \n",
       "\n",
       "                                           full_text  \n",
       "0  act as a tea-taster want somebody experienced ...  \n",
       "1  act as an interior decorator i want you to act...  \n",
       "2  act as a florist calling out for assistance fr...  \n",
       "3  act as a self-help book i want you to act as a...  \n",
       "4  act as a gnomist i want you to act as a gnomis...  "
      ]
     },
     "execution_count": 27,
     "metadata": {},
     "output_type": "execute_result"
    }
   ],
   "source": [
    "df['full_text'] = df['topic'] + \" \" + df['prompt']\n",
    "df['full_text'] = df['full_text'].str.lower()\n",
    "df.head()"
   ]
  },
  {
   "cell_type": "code",
   "execution_count": 28,
   "metadata": {},
   "outputs": [
    {
     "name": "stderr",
     "output_type": "stream",
     "text": [
      "/var/folders/34/d1tlq3k91hb0lj6x90xpzb4r0000gn/T/ipykernel_58390/3700634843.py:6: FutureWarning: The default value of regex will change from True to False in a future version.\n",
      "  df['actor_name'] = df['actor_name'].str.replace(r' a | an ', ' ')\n"
     ]
    },
    {
     "data": {
      "text/plain": [
       "general                              2\n",
       "a machine learning engineer          1\n",
       "a legal advisor                      1\n",
       "a personal chef                      1\n",
       "a virtual doctor                     1\n",
       "                                    ..\n",
       "a lunatic                            1\n",
       "an it architect                      1\n",
       "an academician                       1\n",
       "a developer relations consultant:    1\n",
       "a life coach                         1\n",
       "Name: actor_name, Length: 82, dtype: int64"
      ]
     },
     "execution_count": 28,
     "metadata": {},
     "output_type": "execute_result"
    }
   ],
   "source": [
    "import pandas as pd\n",
    "\n",
    "# extract everything after \"Act as a\" and assign it to the new column \"category\"\n",
    "df['actor_name'] = df['topic'].str.extract(r'Act as[ a| ](.*)')\n",
    "# remove any instances of 'a' or 'an' from the category column and replace them with an empty string in their place keeping the rest.\n",
    "df['actor_name'] = df['actor_name'].str.replace(r' a | an ', ' ')\n",
    "# remove double spaces\n",
    "df['actor_name'] = df['actor_name'].str.replace(r'  ', ' ')\n",
    "\n",
    "# replace any NaN values with 'General' in the category column\n",
    "df['actor_name'] = df['actor_name'].fillna('General')\n",
    "# make actor_name lowercase\n",
    "df['actor_name'] = df['actor_name'].str.lower()\n",
    "# Fill in NaN contributor values with 'None'\n",
    "df['contributor'] = df['contributor'].fillna('None')\n",
    "\n",
    "df.actor_name.value_counts()\n"
   ]
  },
  {
   "cell_type": "code",
   "execution_count": 29,
   "metadata": {},
   "outputs": [],
   "source": [
    "# clear out the markdown files leaving the header line only\n",
    "for topic in TOPICS:\n",
    "    with open(f\"specific_topics/{topic}.md\", \"w\") as file:\n",
    "        file.write(f\"## Prompts for {topic}\\n\")\n",
    "\n"
   ]
  },
  {
   "cell_type": "code",
   "execution_count": 30,
   "metadata": {},
   "outputs": [
    {
     "name": "stderr",
     "output_type": "stream",
     "text": [
      "Writing prompts to files: 100%|\u001b[32m██████████\u001b[0m| 143/143 [00:00<00:00, 482.91it/s]\n"
     ]
    }
   ],
   "source": [
    "# scan actor_name column for words that correspond to the filenames in the \"specific_topics\" folder\n",
    "# if a word is found, open that file and append the prompt to the file then close the file\n",
    "\n",
    "for topic in tqdm(TOPICS, total = len(TOPICS), desc = \"Writing prompts to files\", colour=\"green\"):\n",
    "    for index, row in df.iterrows():\n",
    "        if topic in row['actor_name']:\n",
    "            with open(f\"specific_topics/{topic}.md\", \"a\") as f:\n",
    "                f.write(\"## Prompt\\n\")\n",
    "                write_string = \"```output\\n\" + row['prompt'] + \"\\n```\\n\"\n",
    "                f.write(write_string)\n",
    "                # if there is a contributor, add the contributor to the file\n",
    "                if row['contributor'] != \"None\":\n",
    "                    f.write(f\"Contributor: {row['contributor']}\\n\")\n",
    "                f.write(\"\\n\")\n"
   ]
  },
  {
   "cell_type": "code",
   "execution_count": 31,
   "metadata": {},
   "outputs": [
    {
     "name": "stderr",
     "output_type": "stream",
     "text": [
      "Writing prompts to files: 100%|\u001b[32m██████████\u001b[0m| 67/67 [00:00<00:00, 424.71it/s]\n"
     ]
    }
   ],
   "source": [
    "# Now parse every word in each prompt for the words in the \"industries\" folder and do the same thing as above for those words in the markdown files in the \"industries\" folder\n",
    "for industry in tqdm(os.listdir(\"industries\"), total = len(os.listdir(\"industries\")), desc = \"Writing prompts to files\", colour=\"green\"):\n",
    "    for index, row in df.iterrows():\n",
    "        if industry in row['full_text']:\n",
    "            with open(f\"industries/{industry}.md\", \"a\") as f:\n",
    "                f.write(\"## Prompt\\n\")\n",
    "                write_string = \"```output\\n\" + row['prompt'] + \"\\n```\\n\"\n",
    "                f.write(write_string)\n",
    "                # if there is a contributor, add the contributor to the file\n",
    "                if row['contributor'] != \"None\":\n",
    "                    f.write(f\"Contributor: {row['contributor']}\\n\")\n",
    "                f.write(\"\\n\")"
   ]
  },
  {
   "cell_type": "code",
   "execution_count": 32,
   "metadata": {},
   "outputs": [
    {
     "name": "stderr",
     "output_type": "stream",
     "text": [
      "Writing prompts to files: 100%|\u001b[32m██████████\u001b[0m| 82/82 [00:00<00:00, 421.47it/s]\n"
     ]
    }
   ],
   "source": [
    "# now add each row of the df to markdown files in the \"actors\" folder based on the actor_name column where the actor_name is the name of the file\n",
    "for actor in tqdm(df['actor_name'].unique(), total = len(df['actor_name'].unique()), desc = \"Writing prompts to files\", colour=\"green\"):\n",
    "    for index, row in df.iterrows():\n",
    "        if actor in row['actor_name']:\n",
    "            with open(f\"actors/{actor}.md\", \"a\") as f:\n",
    "                f.write(\"## Prompt\\n\")\n",
    "                write_string = \"```output\\n\" + row['prompt'] + \"\\n```\\n\"\n",
    "                f.write(write_string)\n",
    "                # if there is a contributor, add the contributor to the file\n",
    "                if row['contributor'] != \"None\":\n",
    "                    f.write(f\"Contributor: {row['contributor']}\\n\")\n",
    "                f.write(\"\\n\")\n"
   ]
  },
  {
   "cell_type": "code",
   "execution_count": 33,
   "metadata": {},
   "outputs": [
    {
     "name": "stdout",
     "output_type": "stream",
     "text": [
      "['swift', 'machine learning', 'cryptography', 'cloud computing', 'parallel computing', 'front end development', 'arvr', 'functional programming', 'kubernetes', 'data analysis', 'english', 'kotlin', 'big data', 'blockchain', 'desktop development', 'book', 'full stack development', 'data structures', 'mobile development', 'go', 'back end development', 'compilers', 'computer graphics', 'soa', 'python', 'monolithic', 'waterfall', 'concurrent programming', 'data science', 'pointers in computer science', 'natural language processing', 'togaf', 'networking', 'procedural programming', 'c', 'data engineering', 'event-driven programming', 'android', 'professor', 'object-oriented programming', 'generator', 'data science', 'vba', 'computer architecture', 'regex', 'iot', 'natural language processing', 'diet', 'physicist', 'scala', 'rust', 'data structures', 'deep learning', 'pmp', 'data visualization', 'parallel computing', 'cloud computing', 'excel formulas', 'creator', 'kanban', 'specific topics directory', 'scrum', 'front end development', 'php', 'sql', 'windows', 'back end development', 'javascript', 'linux', 'testing', 'visio', 'lean', 'qlikview', 'embedded systems', 'power bi', 'algorithms', 'computer vision', 'macos', 'advice', 'coach', 'objective-c', 'firmware', 'embedded systems', 'r', 'itil', 'java', 'post', 'microservices', 'excel formulas', 'c++', 'computer architecture', 'google cloud', 'algorithm', 'agile', 'operating systems', 'distributed systems', 'deep learning', 'detector', 'distributed systems', 'cobit', 'tableau', 'operating systems', 'translate', 'high-performance computing', 'd3 js', 'sas', 'ios', 'c#', 'mobile development', 'd3 js', 'ruby', 'desktop development', 'data visualization', 'mathematician', 'functional programming', 'full stack development', 'docker', 'aws', 'computer vision', 'debugging', 'pointers in computer science', 'devops', 'assembler', 'computer graphics', 'perl', 'object-oriented programming', 'game', 'google cloud', 'big data', 'typescript', 'high-performance computing', 'prince2', 'event-driven programming', 'data engineering', 'procedural programming', 'data analysis', 'shell', 'security', 'concurrent programming', 'specific topics directory', 'machine learning', 'power bi', 'azure']\n"
     ]
    }
   ],
   "source": [
    "print(TOPICS)"
   ]
  },
  {
   "cell_type": "code",
   "execution_count": null,
   "metadata": {},
   "outputs": [],
   "source": [
    "# Now for every file in `specific_topics` folder, add a badge to the readme. The badge will be a link to the file."
   ]
  }
 ],
 "metadata": {
  "kernelspec": {
   "display_name": "Python 3.9.6 ('groupme')",
   "language": "python",
   "name": "python3"
  },
  "language_info": {
   "codemirror_mode": {
    "name": "ipython",
    "version": 3
   },
   "file_extension": ".py",
   "mimetype": "text/x-python",
   "name": "python",
   "nbconvert_exporter": "python",
   "pygments_lexer": "ipython3",
   "version": "3.9.6"
  },
  "orig_nbformat": 4,
  "vscode": {
   "interpreter": {
    "hash": "28dd76f97a2595215b3511d9563b8125e93469ee739d17a6b25584482d270cb8"
   }
  }
 },
 "nbformat": 4,
 "nbformat_minor": 2
}
