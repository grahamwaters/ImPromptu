{
 "cells": [
  {
   "cell_type": "code",
   "execution_count": 66,
   "metadata": {},
   "outputs": [
    {
     "name": "stdout",
     "output_type": "stream",
     "text": [
      "100%|█████████████████████████████████████████| 89/89 [00:00<00:00, 1144.02it/s]\n"
     ]
    }
   ],
   "source": [
    "!python setup.py\n",
    "!python topic_sorting.py"
   ]
  },
  {
   "cell_type": "code",
   "execution_count": 67,
   "metadata": {},
   "outputs": [
    {
     "name": "stderr",
     "output_type": "stream",
     "text": [
      "/Users/grahamwaters/.local/lib/python3.9/site-packages/tqdm/auto.py:22: TqdmWarning: IProgress not found. Please update jupyter and ipywidgets. See https://ipywidgets.readthedocs.io/en/stable/user_install.html\n",
      "  from .autonotebook import tqdm as notebook_tqdm\n"
     ]
    }
   ],
   "source": [
    "import pandas as pd\n",
    "import numpy as np\n",
    "import re\n",
    "import os\n",
    "from tqdm.auto import tqdm\n",
    "import csv\n",
    "\n",
    "# topics is a list of strings, each string is a topic which comes from the list of file names in the \"specific_topics\" folder\n",
    "TOPICS = os.listdir(\"specific_topics\") # get the list of file names in the \"specific_topics\" folder\n",
    "TOPICS = [topic.replace(\".md\", \"\") for topic in TOPICS] # remove the \".md\" from the file names\n",
    "TOPICS = [topic.replace(\"_\", \" \") for topic in TOPICS] # replace the underscores with spaces\n"
   ]
  },
  {
   "cell_type": "code",
   "execution_count": 68,
   "metadata": {},
   "outputs": [
    {
     "data": {
      "text/html": [
       "<div>\n",
       "<style scoped>\n",
       "    .dataframe tbody tr th:only-of-type {\n",
       "        vertical-align: middle;\n",
       "    }\n",
       "\n",
       "    .dataframe tbody tr th {\n",
       "        vertical-align: top;\n",
       "    }\n",
       "\n",
       "    .dataframe thead th {\n",
       "        text-align: right;\n",
       "    }\n",
       "</style>\n",
       "<table border=\"1\" class=\"dataframe\">\n",
       "  <thead>\n",
       "    <tr style=\"text-align: right;\">\n",
       "      <th></th>\n",
       "      <th>topic</th>\n",
       "      <th>prompt</th>\n",
       "      <th>contributor</th>\n",
       "      <th>link</th>\n",
       "    </tr>\n",
       "  </thead>\n",
       "  <tbody>\n",
       "    <tr>\n",
       "      <th>0</th>\n",
       "      <td>Act As A Tea-Taster</td>\n",
       "      <td>Want somebody experienced enough to distinguis...</td>\n",
       "      <td>NaN</td>\n",
       "      <td>NaN</td>\n",
       "    </tr>\n",
       "    <tr>\n",
       "      <th>1</th>\n",
       "      <td>Act as an Interior Decorator</td>\n",
       "      <td>I want you to act as an interior decorator. Te...</td>\n",
       "      <td>NaN</td>\n",
       "      <td>NaN</td>\n",
       "    </tr>\n",
       "    <tr>\n",
       "      <th>2</th>\n",
       "      <td>Act As A Florist</td>\n",
       "      <td>Calling out for assistance from knowledgeable ...</td>\n",
       "      <td>NaN</td>\n",
       "      <td>NaN</td>\n",
       "    </tr>\n",
       "    <tr>\n",
       "      <th>3</th>\n",
       "      <td>Act as a Self-Help Book</td>\n",
       "      <td>I want you to act as a self-help book. You wil...</td>\n",
       "      <td>NaN</td>\n",
       "      <td>NaN</td>\n",
       "    </tr>\n",
       "    <tr>\n",
       "      <th>4</th>\n",
       "      <td>Act as a Gnomist</td>\n",
       "      <td>I want you to act as a gnomist. You will provi...</td>\n",
       "      <td>NaN</td>\n",
       "      <td>NaN</td>\n",
       "    </tr>\n",
       "  </tbody>\n",
       "</table>\n",
       "</div>"
      ],
      "text/plain": [
       "                          topic  \\\n",
       "0           Act As A Tea-Taster   \n",
       "1  Act as an Interior Decorator   \n",
       "2              Act As A Florist   \n",
       "3       Act as a Self-Help Book   \n",
       "4              Act as a Gnomist   \n",
       "\n",
       "                                              prompt contributor  link  \n",
       "0  Want somebody experienced enough to distinguis...         NaN   NaN  \n",
       "1  I want you to act as an interior decorator. Te...         NaN   NaN  \n",
       "2  Calling out for assistance from knowledgeable ...         NaN   NaN  \n",
       "3  I want you to act as a self-help book. You wil...         NaN   NaN  \n",
       "4  I want you to act as a gnomist. You will provi...         NaN   NaN  "
      ]
     },
     "execution_count": 68,
     "metadata": {},
     "output_type": "execute_result"
    }
   ],
   "source": [
    "######## Fresh Start ########\n",
    "# Starting with a csv already created and populated with prompts\n",
    "# we want to distribute those prompts into markdown files that are named by the topic. To do this we need to categorize the prompts by topic.\n",
    "# We can make a new column in the csv file that is the topic, and then we can use that to populate the markdown files.\n",
    "# We can also use the topic column to make sure that the prompts are only added to the markdown files that are named after the topic.\n",
    "# Step 1: Create a new column in the csv file that is the topic\n",
    "# open the csv file\n",
    "prompts_df = pd.read_csv(\"prompts.csv\")\n",
    "\n",
    "# Step 2: Populate the markdown files with the prompts from the csv file\n",
    "prompts_df.head()"
   ]
  },
  {
   "cell_type": "code",
   "execution_count": 69,
   "metadata": {},
   "outputs": [
    {
     "data": {
      "text/html": [
       "<div>\n",
       "<style scoped>\n",
       "    .dataframe tbody tr th:only-of-type {\n",
       "        vertical-align: middle;\n",
       "    }\n",
       "\n",
       "    .dataframe tbody tr th {\n",
       "        vertical-align: top;\n",
       "    }\n",
       "\n",
       "    .dataframe thead th {\n",
       "        text-align: right;\n",
       "    }\n",
       "</style>\n",
       "<table border=\"1\" class=\"dataframe\">\n",
       "  <thead>\n",
       "    <tr style=\"text-align: right;\">\n",
       "      <th></th>\n",
       "      <th>topic</th>\n",
       "      <th>prompt</th>\n",
       "      <th>contributor</th>\n",
       "      <th>link</th>\n",
       "    </tr>\n",
       "  </thead>\n",
       "  <tbody>\n",
       "    <tr>\n",
       "      <th>0</th>\n",
       "      <td>Act As A Tea-Taster</td>\n",
       "      <td>Want somebody experienced enough to distinguis...</td>\n",
       "      <td>NaN</td>\n",
       "      <td>NaN</td>\n",
       "    </tr>\n",
       "    <tr>\n",
       "      <th>1</th>\n",
       "      <td>Act as an Interior Decorator</td>\n",
       "      <td>I want you to act as an interior decorator. Te...</td>\n",
       "      <td>NaN</td>\n",
       "      <td>NaN</td>\n",
       "    </tr>\n",
       "    <tr>\n",
       "      <th>2</th>\n",
       "      <td>Act As A Florist</td>\n",
       "      <td>Calling out for assistance from knowledgeable ...</td>\n",
       "      <td>NaN</td>\n",
       "      <td>NaN</td>\n",
       "    </tr>\n",
       "    <tr>\n",
       "      <th>3</th>\n",
       "      <td>Act as a Self-Help Book</td>\n",
       "      <td>I want you to act as a self-help book. You wil...</td>\n",
       "      <td>NaN</td>\n",
       "      <td>NaN</td>\n",
       "    </tr>\n",
       "    <tr>\n",
       "      <th>4</th>\n",
       "      <td>Act as a Gnomist</td>\n",
       "      <td>I want you to act as a gnomist. You will provi...</td>\n",
       "      <td>NaN</td>\n",
       "      <td>NaN</td>\n",
       "    </tr>\n",
       "  </tbody>\n",
       "</table>\n",
       "</div>"
      ],
      "text/plain": [
       "                          topic  \\\n",
       "0           Act As A Tea-Taster   \n",
       "1  Act as an Interior Decorator   \n",
       "2              Act As A Florist   \n",
       "3       Act as a Self-Help Book   \n",
       "4              Act as a Gnomist   \n",
       "\n",
       "                                              prompt contributor  link  \n",
       "0  Want somebody experienced enough to distinguis...         NaN   NaN  \n",
       "1  I want you to act as an interior decorator. Te...         NaN   NaN  \n",
       "2  Calling out for assistance from knowledgeable ...         NaN   NaN  \n",
       "3  I want you to act as a self-help book. You wil...         NaN   NaN  \n",
       "4  I want you to act as a gnomist. You will provi...         NaN   NaN  "
      ]
     },
     "execution_count": 69,
     "metadata": {},
     "output_type": "execute_result"
    }
   ],
   "source": [
    "df = prompts_df.copy()\n",
    "df.head()"
   ]
  },
  {
   "cell_type": "code",
   "execution_count": 70,
   "metadata": {},
   "outputs": [
    {
     "data": {
      "text/html": [
       "<div>\n",
       "<style scoped>\n",
       "    .dataframe tbody tr th:only-of-type {\n",
       "        vertical-align: middle;\n",
       "    }\n",
       "\n",
       "    .dataframe tbody tr th {\n",
       "        vertical-align: top;\n",
       "    }\n",
       "\n",
       "    .dataframe thead th {\n",
       "        text-align: right;\n",
       "    }\n",
       "</style>\n",
       "<table border=\"1\" class=\"dataframe\">\n",
       "  <thead>\n",
       "    <tr style=\"text-align: right;\">\n",
       "      <th></th>\n",
       "      <th>topic</th>\n",
       "      <th>prompt</th>\n",
       "      <th>contributor</th>\n",
       "      <th>link</th>\n",
       "      <th>full_text</th>\n",
       "    </tr>\n",
       "  </thead>\n",
       "  <tbody>\n",
       "    <tr>\n",
       "      <th>0</th>\n",
       "      <td>Act As A Tea-Taster</td>\n",
       "      <td>Want somebody experienced enough to distinguis...</td>\n",
       "      <td>NaN</td>\n",
       "      <td>NaN</td>\n",
       "      <td>act as a tea-taster want somebody experienced ...</td>\n",
       "    </tr>\n",
       "    <tr>\n",
       "      <th>1</th>\n",
       "      <td>Act as an Interior Decorator</td>\n",
       "      <td>I want you to act as an interior decorator. Te...</td>\n",
       "      <td>NaN</td>\n",
       "      <td>NaN</td>\n",
       "      <td>act as an interior decorator i want you to act...</td>\n",
       "    </tr>\n",
       "    <tr>\n",
       "      <th>2</th>\n",
       "      <td>Act As A Florist</td>\n",
       "      <td>Calling out for assistance from knowledgeable ...</td>\n",
       "      <td>NaN</td>\n",
       "      <td>NaN</td>\n",
       "      <td>act as a florist calling out for assistance fr...</td>\n",
       "    </tr>\n",
       "    <tr>\n",
       "      <th>3</th>\n",
       "      <td>Act as a Self-Help Book</td>\n",
       "      <td>I want you to act as a self-help book. You wil...</td>\n",
       "      <td>NaN</td>\n",
       "      <td>NaN</td>\n",
       "      <td>act as a self-help book i want you to act as a...</td>\n",
       "    </tr>\n",
       "    <tr>\n",
       "      <th>4</th>\n",
       "      <td>Act as a Gnomist</td>\n",
       "      <td>I want you to act as a gnomist. You will provi...</td>\n",
       "      <td>NaN</td>\n",
       "      <td>NaN</td>\n",
       "      <td>act as a gnomist i want you to act as a gnomis...</td>\n",
       "    </tr>\n",
       "  </tbody>\n",
       "</table>\n",
       "</div>"
      ],
      "text/plain": [
       "                          topic  \\\n",
       "0           Act As A Tea-Taster   \n",
       "1  Act as an Interior Decorator   \n",
       "2              Act As A Florist   \n",
       "3       Act as a Self-Help Book   \n",
       "4              Act as a Gnomist   \n",
       "\n",
       "                                              prompt contributor  link  \\\n",
       "0  Want somebody experienced enough to distinguis...         NaN   NaN   \n",
       "1  I want you to act as an interior decorator. Te...         NaN   NaN   \n",
       "2  Calling out for assistance from knowledgeable ...         NaN   NaN   \n",
       "3  I want you to act as a self-help book. You wil...         NaN   NaN   \n",
       "4  I want you to act as a gnomist. You will provi...         NaN   NaN   \n",
       "\n",
       "                                           full_text  \n",
       "0  act as a tea-taster want somebody experienced ...  \n",
       "1  act as an interior decorator i want you to act...  \n",
       "2  act as a florist calling out for assistance fr...  \n",
       "3  act as a self-help book i want you to act as a...  \n",
       "4  act as a gnomist i want you to act as a gnomis...  "
      ]
     },
     "execution_count": 70,
     "metadata": {},
     "output_type": "execute_result"
    }
   ],
   "source": [
    "df['full_text'] = df['topic'] + \" \" + df['prompt']\n",
    "df['full_text'] = df['full_text'].str.lower()\n",
    "df.head()"
   ]
  },
  {
   "cell_type": "code",
   "execution_count": 71,
   "metadata": {},
   "outputs": [
    {
     "name": "stderr",
     "output_type": "stream",
     "text": [
      "/var/folders/34/d1tlq3k91hb0lj6x90xpzb4r0000gn/T/ipykernel_74779/3700634843.py:6: FutureWarning: The default value of regex will change from True to False in a future version.\n",
      "  df['actor_name'] = df['actor_name'].str.replace(r' a | an ', ' ')\n"
     ]
    },
    {
     "data": {
      "text/plain": [
       "general                              2\n",
       "a machine learning engineer          1\n",
       "a legal advisor                      1\n",
       "a personal chef                      1\n",
       "a virtual doctor                     1\n",
       "                                    ..\n",
       "a lunatic                            1\n",
       "an it architect                      1\n",
       "an academician                       1\n",
       "a developer relations consultant:    1\n",
       "a life coach                         1\n",
       "Name: actor_name, Length: 82, dtype: int64"
      ]
     },
     "execution_count": 71,
     "metadata": {},
     "output_type": "execute_result"
    }
   ],
   "source": [
    "import pandas as pd\n",
    "\n",
    "# extract everything after \"Act as a\" and assign it to the new column \"category\"\n",
    "df['actor_name'] = df['topic'].str.extract(r'Act as[ a| ](.*)')\n",
    "# remove any instances of 'a' or 'an' from the category column and replace them with an empty string in their place keeping the rest.\n",
    "df['actor_name'] = df['actor_name'].str.replace(r' a | an ', ' ')\n",
    "# remove double spaces\n",
    "df['actor_name'] = df['actor_name'].str.replace(r'  ', ' ')\n",
    "\n",
    "# replace any NaN values with 'General' in the category column\n",
    "df['actor_name'] = df['actor_name'].fillna('General')\n",
    "# make actor_name lowercase\n",
    "df['actor_name'] = df['actor_name'].str.lower()\n",
    "# Fill in NaN contributor values with 'None'\n",
    "df['contributor'] = df['contributor'].fillna('None')\n",
    "\n",
    "df.actor_name.value_counts()\n"
   ]
  },
  {
   "cell_type": "code",
   "execution_count": 72,
   "metadata": {},
   "outputs": [],
   "source": [
    "# clear out the markdown files leaving the header line only\n",
    "for topic in TOPICS:\n",
    "    with open(f\"specific_topics/{topic}.md\", \"w\") as file:\n",
    "        file.write(f\"## Prompts for {topic}\\n\")\n",
    "\n"
   ]
  },
  {
   "cell_type": "code",
   "execution_count": 73,
   "metadata": {},
   "outputs": [
    {
     "name": "stderr",
     "output_type": "stream",
     "text": [
      "Writing prompts to files: 100%|\u001b[32m██████████\u001b[0m| 143/143 [00:00<00:00, 375.15it/s]\n"
     ]
    }
   ],
   "source": [
    "# scan actor_name column for words that correspond to the filenames in the \"specific_topics\" folder\n",
    "# if a word is found, open that file and append the prompt to the file then close the file\n",
    "\n",
    "for topic in tqdm(TOPICS, total = len(TOPICS), desc = \"Writing prompts to files\", colour=\"green\"):\n",
    "    for index, row in df.iterrows():\n",
    "        if topic in row['actor_name']:\n",
    "            with open(f\"specific_topics/{topic}.md\", \"a\") as f:\n",
    "                f.write(\"## Prompt\\n\")\n",
    "                write_string = \"```output\\n\" + row['prompt'] + \"\\n```\\n\"\n",
    "                f.write(write_string)\n",
    "                # if there is a contributor, add the contributor to the file\n",
    "                if row['contributor'] != \"None\":\n",
    "                    f.write(f\"Contributor: {row['contributor']}\\n\")\n",
    "                f.write(\"\\n\")\n"
   ]
  },
  {
   "cell_type": "code",
   "execution_count": 74,
   "metadata": {},
   "outputs": [
    {
     "name": "stderr",
     "output_type": "stream",
     "text": [
      "Writing prompts to files: 100%|\u001b[32m██████████\u001b[0m| 67/67 [00:00<00:00, 363.36it/s]\n"
     ]
    }
   ],
   "source": [
    "# Now parse every word in each prompt for the words in the \"industries\" folder and do the same thing as above for those words in the markdown files in the \"industries\" folder\n",
    "for industry in tqdm(os.listdir(\"industries\"), total = len(os.listdir(\"industries\")), desc = \"Writing prompts to files\", colour=\"green\"):\n",
    "    for index, row in df.iterrows():\n",
    "        if industry in row['full_text']:\n",
    "            with open(f\"industries/{industry}.md\", \"a\") as f:\n",
    "                f.write(\"## Prompt\\n\")\n",
    "                write_string = \"```output\\n\" + row['prompt'] + \"\\n```\\n\"\n",
    "                f.write(write_string)\n",
    "                # if there is a contributor, add the contributor to the file\n",
    "                if row['contributor'] != \"None\":\n",
    "                    f.write(f\"Contributor: {row['contributor']}\\n\")\n",
    "                f.write(\"\\n\")"
   ]
  },
  {
   "cell_type": "code",
   "execution_count": 75,
   "metadata": {},
   "outputs": [
    {
     "name": "stderr",
     "output_type": "stream",
     "text": [
      "Writing prompts to files: 100%|\u001b[32m██████████\u001b[0m| 82/82 [00:00<00:00, 304.28it/s]\n"
     ]
    }
   ],
   "source": [
    "# now add each row of the df to markdown files in the \"actors\" folder based on the actor_name column where the actor_name is the name of the file\n",
    "for actor in tqdm(df['actor_name'].unique(), total = len(df['actor_name'].unique()), desc = \"Writing prompts to files\", colour=\"green\"):\n",
    "    for index, row in df.iterrows():\n",
    "        if actor in row['actor_name']:\n",
    "            with open(f\"actors/{actor}.md\", \"a\") as f:\n",
    "                f.write(\"## Prompt\\n\")\n",
    "                write_string = \"```output\\n\" + row['prompt'] + \"\\n```\\n\"\n",
    "                f.write(write_string)\n",
    "                # if there is a contributor, add the contributor to the file\n",
    "                if row['contributor'] != \"None\":\n",
    "                    f.write(f\"Contributor: {row['contributor']}\\n\")\n",
    "                f.write(\"\\n\")\n"
   ]
  },
  {
   "cell_type": "code",
   "execution_count": 76,
   "metadata": {},
   "outputs": [
    {
     "name": "stdout",
     "output_type": "stream",
     "text": [
      "['swift', 'machine learning', 'cryptography', 'cloud computing', 'parallel computing', 'front end development', 'arvr', 'functional programming', 'kubernetes', 'data analysis', 'english', 'kotlin', 'big data', 'blockchain', 'desktop development', 'book', 'full stack development', 'data structures', 'mobile development', 'go', 'back end development', 'compilers', 'computer graphics', 'soa', 'python', 'monolithic', 'waterfall', 'concurrent programming', 'data science', 'pointers in computer science', 'natural language processing', 'togaf', 'networking', 'procedural programming', 'c', 'data engineering', 'event-driven programming', 'android', 'professor', 'object-oriented programming', 'generator', 'data science', 'vba', 'computer architecture', 'regex', 'iot', 'natural language processing', 'diet', 'physicist', 'scala', 'rust', 'data structures', 'deep learning', 'pmp', 'data visualization', 'parallel computing', 'cloud computing', 'excel formulas', 'creator', 'kanban', 'specific topics directory', 'scrum', 'front end development', 'php', 'sql', 'windows', 'back end development', 'javascript', 'linux', 'testing', 'visio', 'lean', 'qlikview', 'embedded systems', 'power bi', 'algorithms', 'computer vision', 'macos', 'advice', 'coach', 'objective-c', 'firmware', 'embedded systems', 'r', 'itil', 'java', 'post', 'microservices', 'excel formulas', 'c++', 'computer architecture', 'google cloud', 'algorithm', 'agile', 'operating systems', 'distributed systems', 'deep learning', 'detector', 'distributed systems', 'cobit', 'tableau', 'operating systems', 'translate', 'high-performance computing', 'd3 js', 'sas', 'ios', 'c#', 'mobile development', 'd3 js', 'ruby', 'desktop development', 'data visualization', 'mathematician', 'functional programming', 'full stack development', 'docker', 'aws', 'computer vision', 'debugging', 'pointers in computer science', 'devops', 'assembler', 'computer graphics', 'perl', 'object-oriented programming', 'game', 'google cloud', 'big data', 'typescript', 'high-performance computing', 'prince2', 'event-driven programming', 'data engineering', 'procedural programming', 'data analysis', 'shell', 'security', 'concurrent programming', 'specific topics directory', 'machine learning', 'power bi', 'azure']\n"
     ]
    }
   ],
   "source": [
    "print(TOPICS)"
   ]
  },
  {
   "cell_type": "code",
   "execution_count": 77,
   "metadata": {},
   "outputs": [
    {
     "name": "stdout",
     "output_type": "stream",
     "text": [
      "Requirement already satisfied: markdown in /opt/anaconda3/envs/groupme/lib/python3.9/site-packages (3.4.1)\n",
      "Requirement already satisfied: importlib-metadata>=4.4 in /opt/anaconda3/envs/groupme/lib/python3.9/site-packages (from markdown) (6.0.0)\n",
      "Requirement already satisfied: zipp>=0.5 in /opt/anaconda3/envs/groupme/lib/python3.9/site-packages (from importlib-metadata>=4.4->markdown) (3.11.0)\n",
      "Requirement already satisfied: pybadges in /opt/anaconda3/envs/groupme/lib/python3.9/site-packages (3.0.0)\n",
      "Requirement already satisfied: requests<3,>=2.22.0 in /opt/anaconda3/envs/groupme/lib/python3.9/site-packages (from pybadges) (2.28.2)\n",
      "Requirement already satisfied: Jinja2<4,>=3 in /opt/anaconda3/envs/groupme/lib/python3.9/site-packages (from pybadges) (3.1.2)\n",
      "Requirement already satisfied: MarkupSafe>=2.0 in /opt/anaconda3/envs/groupme/lib/python3.9/site-packages (from Jinja2<4,>=3->pybadges) (2.1.1)\n",
      "Requirement already satisfied: charset-normalizer<4,>=2 in /opt/anaconda3/envs/groupme/lib/python3.9/site-packages (from requests<3,>=2.22.0->pybadges) (3.0.1)\n",
      "Requirement already satisfied: certifi>=2017.4.17 in /opt/anaconda3/envs/groupme/lib/python3.9/site-packages (from requests<3,>=2.22.0->pybadges) (2022.12.7)\n",
      "Requirement already satisfied: idna<4,>=2.5 in /opt/anaconda3/envs/groupme/lib/python3.9/site-packages (from requests<3,>=2.22.0->pybadges) (2.7)\n",
      "Requirement already satisfied: urllib3<1.27,>=1.21.1 in /opt/anaconda3/envs/groupme/lib/python3.9/site-packages (from requests<3,>=2.22.0->pybadges) (1.26.14)\n",
      "Requirement already satisfied: black in /opt/anaconda3/envs/groupme/lib/python3.9/site-packages (22.12.0)\n",
      "Requirement already satisfied: pathspec>=0.9.0 in /opt/anaconda3/envs/groupme/lib/python3.9/site-packages (from black) (0.10.3)\n",
      "Requirement already satisfied: tomli>=1.1.0 in /opt/anaconda3/envs/groupme/lib/python3.9/site-packages (from black) (2.0.1)\n",
      "Requirement already satisfied: typing-extensions>=3.10.0.0 in /opt/anaconda3/envs/groupme/lib/python3.9/site-packages (from black) (4.4.0)\n",
      "Requirement already satisfied: platformdirs>=2 in /opt/anaconda3/envs/groupme/lib/python3.9/site-packages (from black) (2.6.0)\n",
      "Requirement already satisfied: click>=8.0.0 in /Users/grahamwaters/.local/lib/python3.9/site-packages (from black) (8.1.3)\n",
      "Requirement already satisfied: mypy-extensions>=0.4.3 in /opt/anaconda3/envs/groupme/lib/python3.9/site-packages (from black) (0.4.3)\n",
      "Requirement already satisfied: mistune in /opt/anaconda3/envs/groupme/lib/python3.9/site-packages (2.0.4)\n",
      "Requirement already satisfied: pygments in /opt/anaconda3/envs/groupme/lib/python3.9/site-packages (2.13.0)\n"
     ]
    }
   ],
   "source": [
    "# Now for every file in `specific_topics` folder, add a badge to the readme. The badge will be a link to the file.\n",
    "!pip install markdown #  for markdown parsing\n",
    "!pip install pybadges # for badges\n",
    "!pip install black  # for code formatting\n",
    "!pip install mistune # for markdown parsing\n",
    "!pip install pygments # for syntax highlighting"
   ]
  },
  {
   "cell_type": "code",
   "execution_count": 78,
   "metadata": {},
   "outputs": [
    {
     "ename": "InvalidInput",
     "evalue": "Cannot parse: 1:1: [![swift](https://img.shields.io/badge/-swift-grey)](./specific_topics/swift.md)",
     "output_type": "error",
     "traceback": [
      "\u001b[0;31m---------------------------------------------------------------------------\u001b[0m",
      "\u001b[0;31mInvalidInput\u001b[0m                              Traceback (most recent call last)",
      "Cell \u001b[0;32mIn[78], line 29\u001b[0m\n\u001b[1;32m     27\u001b[0m     middle \u001b[38;5;241m=\u001b[39m file\u001b[38;5;241m.\u001b[39mread()\n\u001b[1;32m     28\u001b[0m     \u001b[38;5;66;03m# Format with black\u001b[39;00m\n\u001b[0;32m---> 29\u001b[0m     middle \u001b[38;5;241m=\u001b[39m \u001b[43mblack\u001b[49m\u001b[38;5;241;43m.\u001b[39;49m\u001b[43mformat_str\u001b[49m\u001b[43m(\u001b[49m\u001b[43mmiddle\u001b[49m\u001b[43m,\u001b[49m\u001b[43m \u001b[49m\u001b[43mmode\u001b[49m\u001b[38;5;241;43m=\u001b[39;49m\u001b[43mblack\u001b[49m\u001b[38;5;241;43m.\u001b[39;49m\u001b[43mFileMode\u001b[49m\u001b[43m(\u001b[49m\u001b[43m)\u001b[49m\u001b[43m)\u001b[49m\n\u001b[1;32m     31\u001b[0m \u001b[38;5;28;01mwith\u001b[39;00m \u001b[38;5;28mopen\u001b[39m(\u001b[38;5;124m\"\u001b[39m\u001b[38;5;124mdocs/section_3.md\u001b[39m\u001b[38;5;124m\"\u001b[39m, \u001b[38;5;124m\"\u001b[39m\u001b[38;5;124mr\u001b[39m\u001b[38;5;124m\"\u001b[39m) \u001b[38;5;28;01mas\u001b[39;00m file:\n\u001b[1;32m     32\u001b[0m     bottom \u001b[38;5;241m=\u001b[39m file\u001b[38;5;241m.\u001b[39mread()\n",
      "File \u001b[0;32m/opt/anaconda3/envs/groupme/lib/python3.9/site-packages/black/__init__.py:1073\u001b[0m, in \u001b[0;36mformat_str\u001b[0;34m(src_contents, mode)\u001b[0m\n\u001b[1;32m   1043\u001b[0m \u001b[39mdef\u001b[39;00m \u001b[39mformat_str\u001b[39m(src_contents: \u001b[39mstr\u001b[39m, \u001b[39m*\u001b[39m, mode: Mode) \u001b[39m-\u001b[39m\u001b[39m>\u001b[39m \u001b[39mstr\u001b[39m:\n\u001b[1;32m   1044\u001b[0m     \u001b[39m\"\"\"Reformat a string and return new contents.\u001b[39;00m\n\u001b[1;32m   1045\u001b[0m \n\u001b[1;32m   1046\u001b[0m \u001b[39m    `mode` determines formatting options, such as how many characters per line are\u001b[39;00m\n\u001b[0;32m   (...)\u001b[0m\n\u001b[1;32m   1071\u001b[0m \n\u001b[1;32m   1072\u001b[0m \u001b[39m    \"\"\"\u001b[39;00m\n\u001b[0;32m-> 1073\u001b[0m     dst_contents \u001b[39m=\u001b[39m _format_str_once(src_contents, mode\u001b[39m=\u001b[39;49mmode)\n\u001b[1;32m   1074\u001b[0m     \u001b[39m# Forced second pass to work around optional trailing commas (becoming\u001b[39;00m\n\u001b[1;32m   1075\u001b[0m     \u001b[39m# forced trailing commas on pass 2) interacting differently with optional\u001b[39;00m\n\u001b[1;32m   1076\u001b[0m     \u001b[39m# parentheses.  Admittedly ugly.\u001b[39;00m\n\u001b[1;32m   1077\u001b[0m     \u001b[39mif\u001b[39;00m src_contents \u001b[39m!=\u001b[39m dst_contents:\n",
      "File \u001b[0;32m/opt/anaconda3/envs/groupme/lib/python3.9/site-packages/black/__init__.py:1083\u001b[0m, in \u001b[0;36m_format_str_once\u001b[0;34m(src_contents, mode)\u001b[0m\n\u001b[1;32m   1082\u001b[0m \u001b[39mdef\u001b[39;00m \u001b[39m_format_str_once\u001b[39m(src_contents: \u001b[39mstr\u001b[39m, \u001b[39m*\u001b[39m, mode: Mode) \u001b[39m-\u001b[39m\u001b[39m>\u001b[39m \u001b[39mstr\u001b[39m:\n\u001b[0;32m-> 1083\u001b[0m     src_node \u001b[39m=\u001b[39m lib2to3_parse(src_contents\u001b[39m.\u001b[39;49mlstrip(), mode\u001b[39m.\u001b[39;49mtarget_versions)\n\u001b[1;32m   1084\u001b[0m     dst_blocks: List[LinesBlock] \u001b[39m=\u001b[39m []\n\u001b[1;32m   1085\u001b[0m     \u001b[39mif\u001b[39;00m mode\u001b[39m.\u001b[39mtarget_versions:\n",
      "File \u001b[0;32m/opt/anaconda3/envs/groupme/lib/python3.9/site-packages/black/parsing.py:127\u001b[0m, in \u001b[0;36mlib2to3_parse\u001b[0;34m(src_txt, target_versions)\u001b[0m\n\u001b[1;32m    124\u001b[0m         msg \u001b[39m=\u001b[39m \u001b[39mf\u001b[39m\u001b[39m\"\u001b[39m\u001b[39m{\u001b[39;00moriginal_msg\u001b[39m}\u001b[39;00m\u001b[39m\\n\u001b[39;00m\u001b[39m{\u001b[39;00mPY2_HINT\u001b[39m}\u001b[39;00m\u001b[39m\"\u001b[39m\n\u001b[1;32m    125\u001b[0m         \u001b[39mraise\u001b[39;00m InvalidInput(msg) \u001b[39mfrom\u001b[39;00m \u001b[39mNone\u001b[39m\n\u001b[0;32m--> 127\u001b[0m     \u001b[39mraise\u001b[39;00m exc \u001b[39mfrom\u001b[39;00m \u001b[39mNone\u001b[39m\n\u001b[1;32m    129\u001b[0m \u001b[39mif\u001b[39;00m \u001b[39misinstance\u001b[39m(result, Leaf):\n\u001b[1;32m    130\u001b[0m     result \u001b[39m=\u001b[39m Node(syms\u001b[39m.\u001b[39mfile_input, [result])\n",
      "\u001b[0;31mInvalidInput\u001b[0m: Cannot parse: 1:1: [![swift](https://img.shields.io/badge/-swift-grey)](./specific_topics/swift.md)"
     ]
    }
   ],
   "source": [
    "import random\n",
    "import markdown\n",
    "import black\n",
    "\n",
    "\n",
    "def combine_readme(top, middle, bottom):\n",
    "    # Create dynamic badges for middle section\n",
    "    badges = []\n",
    "    for i in range(3):\n",
    "        badge_color = random.choice([\"green\", \"orange\", \"red\"])\n",
    "        badge_text = f\"Badge {i + 1}\"\n",
    "        badge_link = f\"/specific_topics/badge_{i + 1}.md\"\n",
    "        badge = f\"[![{badge_text}](https://img.shields.io/badge/{badge_text}-{badge_color})]({badge_link})\"\n",
    "        badges.append(badge)\n",
    "\n",
    "    # Concatenate top, middle, and bottom sections\n",
    "    combined_readme = top + \"\\n\\n\" + \"\\n\".join(badges) + \"\\n\\n\" + bottom\n",
    "\n",
    "    return formatted_readme\n",
    "\n",
    "\n",
    "# Read in the top, middle, and bottom sections of the README\n",
    "with open(\"docs/section_1.md\", \"r\") as file:\n",
    "    top = file.read()\n",
    "\n",
    "with open(\"docs/section_2.md\", \"r\") as file:\n",
    "    middle = file.read()\n",
    "    # Format with black\n",
    "    middle = black.format_str(middle, mode=black.FileMode())\n",
    "\n",
    "with open(\"docs/section_3.md\", \"r\") as file:\n",
    "    bottom = file.read()\n",
    "    # Format with black\n",
    "    bottom = black.format_str(bottom, mode=black.FileMode())\n",
    "\n",
    "# Combine the sections\n",
    "combined_readme = combine_readme(top, middle, bottom)\n",
    "\n",
    "# Write the combined README to the root directory\n",
    "with open(\"README.md\", \"w\") as file:\n",
    "    file.write(combined_readme)\n",
    "\n",
    "# Now for every file in `specific_topics` folder, add a badge to the readme. The badge will be a link to the file.\n",
    "for file in os.listdir(\"specific_topics\"):\n",
    "    # you can use the file name to create the badge text\n",
    "    badge_text = file.replace(\".md\", \"\")\n",
    "    # you can use the file name to create the badge link\n",
    "    badge_link = f\"/specific_topics/{file}\"\n",
    "    # you can use the file name to create the badge color\n",
    "    badge_color = random.choice([\"green\", \"orange\", \"red\"])"
   ]
  },
  {
   "cell_type": "code",
   "execution_count": null,
   "metadata": {},
   "outputs": [],
   "source": [
    "import random\n",
    "import mistune\n",
    "from bs4 import BeautifulSoup\n",
    "\n",
    "def combine_readme(top, middle, bottom):\n",
    "    # Convert markdown to html\n",
    "    middle = mistune.markdown(middle)\n",
    "    # Now you can use beautifulsoup to format the html\n",
    "    soup = BeautifulSoup(middle, 'html.parser')\n",
    "    # Perform any desired formatting on the html using beautifulsoup\n",
    "    # ...\n",
    "    # Convert the modified html back to markdown\n",
    "    middle = soup.prettify()\n",
    "    # Create dynamic badges for middle section\n",
    "    badges = []\n",
    "    for i in range(3):\n",
    "        badge_color = random.choice([\"green\", \"orange\", \"red\"])\n",
    "        badge_text = f\"Badge {i + 1}\"\n",
    "        badge_link = f\"/specific_topics/badge_{i + 1}.md\"\n",
    "        badge = f\"[![{badge_text}](https://img.shields.io/badge/{badge_text}-{badge_color})]({badge_link})\"\n",
    "        badges.append(badge)\n",
    "\n",
    "    # Concatenate top, middle, and bottom sections\n",
    "    combined_readme = top + \"\\n\\n\" + \"\\n\".join(badges) + \"\\n\\n\" + bottom\n",
    "\n"
   ]
  },
  {
   "cell_type": "code",
   "execution_count": 80,
   "metadata": {},
   "outputs": [
    {
     "name": "stderr",
     "output_type": "stream",
     "text": [
      "100%|██████████| 143/143 [00:00<00:00, 7775.59it/s]\n"
     ]
    }
   ],
   "source": [
    "import random\n",
    "import markdown\n",
    "import black\n",
    "from tqdm import tqdm\n",
    "\n",
    "def combine_readme(top, middle, bottom):\n",
    "    # Create dynamic badges for middle section\n",
    "    badges = []\n",
    "    # the files in the specific_topics folder are the topics\n",
    "    badge_count = len(os.listdir(\"specific_topics\"))\n",
    "    for i in tqdm(range(badge_count)):\n",
    "        badge_color = random.choice([\"green\", \"orange\", \"red\", \"blue\", \"yellow\", \"pink\", \"purple\", \"grey\", \"blue\", \"blueviolet\",\"brown\", \"darkgrey\", \"lightgreen\", \"darkgreen\", \"lightblue\", \"darkblue\", \"lightyellow\", \"darkyellow\", \"lightpink\", \"darkpink\", \"lightpurple\", \"darkpurple\", \"lightbrown\", \"darkbrown\", \"lightblack\", \"darkblack\", \"lightwhite\", \"darkwhite\", \"lightred\", \"darkred\", \"lightorange\", \"darkorange\"])\n",
    "        badge_text = f\"Badge_{i + 1}\"\n",
    "        # get the name of the file\n",
    "        badge_filename = os.listdir(\"specific_topics\")[i] # get the name of the file\n",
    "        badge_text = badge_filename.replace(\".md\", \"\") # remove the .md extension\n",
    "        badge_text_two = badge_text.replace(\" \", \"_\") # replace spaces with underscores\n",
    "        badge_link = f\"./specific_topics/{badge_text_two}.md\"\n",
    "        while ' ' in badge_text:\n",
    "            badge_text = badge_text.replace(' ', '_')\n",
    "        badge = f\"[![{badge_text}](https://img.shields.io/badge/{badge_text}-{badge_color})]({badge_link})\"\n",
    "        badges.append(badge)\n",
    "    # Concatenate top, middle, and bottom sections\n",
    "    combined_readme = top + \"\\n\\n\" + \"\\n\".join(badges) + \"\\n\\n\" + bottom\n",
    "    return combined_readme\n",
    "\n",
    "\n",
    "# Read in the top, middle, and bottom sections of the README\n",
    "with open(\"docs/section_1.md\", \"r\") as file:\n",
    "    top = file.read()\n",
    "    # Write the section to the top of the readme\n",
    "    with open(\"README.md\", \"w\") as file:\n",
    "        file.write(top)\n",
    "\n",
    "with open(\"docs/section_2.md\", \"r\") as file:\n",
    "    middle = file.read()\n",
    "    # Convert to HTML\n",
    "    middle = mistune.markdown(middle)\n",
    "    # write the section to the bottom of the readme\n",
    "    with open(\"README.md\", \"a\") as file:\n",
    "        file.write(middle)\n",
    "    \n",
    "\n",
    "with open(\"docs/section_3.md\", \"r\") as file:\n",
    "    bottom = file.read()\n",
    "    # Format with black\n",
    "    #bottom = black.format_str(bottom, mode=black.FileMode())\n",
    "    # write the section to the bottom of the readme\n",
    "    with open(\"README.md\", \"a\") as file:\n",
    "        file.write(bottom)\n",
    "    \n",
    "# Combine the sections\n",
    "combined_readme = combine_readme(top, middle, bottom)\n",
    "\n",
    "# Write the combined README to the root directory\n",
    "with open(\"README.md\", \"w\") as file:\n",
    "    file.write(combined_readme)\n"
   ]
  }
 ],
 "metadata": {
  "kernelspec": {
   "display_name": "Python 3.9.6 ('groupme')",
   "language": "python",
   "name": "python3"
  },
  "language_info": {
   "codemirror_mode": {
    "name": "ipython",
    "version": 3
   },
   "file_extension": ".py",
   "mimetype": "text/x-python",
   "name": "python",
   "nbconvert_exporter": "python",
   "pygments_lexer": "ipython3",
   "version": "3.9.6"
  },
  "orig_nbformat": 4,
  "vscode": {
   "interpreter": {
    "hash": "28dd76f97a2595215b3511d9563b8125e93469ee739d17a6b25584482d270cb8"
   }
  }
 },
 "nbformat": 4,
 "nbformat_minor": 2
}
